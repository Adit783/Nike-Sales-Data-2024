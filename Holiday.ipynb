{
 "cells": [
  {
   "cell_type": "code",
   "execution_count": 35,
   "id": "0f048f05",
   "metadata": {},
   "outputs": [
    {
     "name": "stdout",
     "output_type": "stream",
     "text": [
      "    Country        Date                    Name  Public\n",
      "0        US  2024-01-01          New Year's Day    True\n",
      "1        US  2024-01-01  Seventh Day of Kwanzaa   False\n",
      "2        US  2024-01-06                Epiphany   False\n",
      "3        US  2024-01-06  Orthodox Christmas Eve   False\n",
      "4        US  2024-01-07  Orthodox Christmas Day   False\n",
      "..      ...         ...                     ...     ...\n",
      "279      KR  2024-10-09     Korean Alphabet Day    True\n",
      "280      KR  2024-12-21       December Solstice   False\n",
      "281      KR  2024-12-24           Christmas Eve   False\n",
      "282      KR  2024-12-25           Christmas Day    True\n",
      "283      KR  2024-12-31          New Year's Eve   False\n",
      "\n",
      "[284 rows x 4 columns]\n",
      "   Country  Month  HolidayCount Month_Name\n",
      "0       CN      1             1    January\n",
      "1       CN      2             9   February\n",
      "2       CN      3             5      March\n",
      "3       CN      4             3      April\n",
      "4       CN      5             8        May\n",
      "..     ...    ...           ...        ...\n",
      "59      US      8             6     August\n",
      "60      US      9            10  September\n",
      "61      US     10            11    October\n",
      "62      US     11            10   November\n",
      "63      US     12            26   December\n",
      "\n",
      "[64 rows x 4 columns]\n"
     ]
    },
    {
     "name": "stderr",
     "output_type": "stream",
     "text": [
      "C:\\Users\\aadig\\AppData\\Local\\Temp/ipykernel_24456/3077698042.py:43: UserWarning: Pandas requires version '3.0.5' or newer of 'xlsxwriter' (version '3.0.1' currently installed).\n",
      "  holiday_df.to_excel('C:\\\\Users\\\\aadig\\\\OneDrive\\\\Desktop\\\\Nuel\\\\holiday_data.xlsx', index=False)\n",
      "C:\\Users\\aadig\\AppData\\Local\\Temp/ipykernel_24456/3077698042.py:64: UserWarning: Pandas requires version '3.0.5' or newer of 'xlsxwriter' (version '3.0.1' currently installed).\n",
      "  holiday_counts.to_excel('C:\\\\Users\\\\aadig\\\\OneDrive\\\\Desktop\\\\Nuel\\\\holiday_counts1.xlsx', index=False)\n"
     ]
    }
   ],
   "source": [
    "import requests\n",
    "import pandas as pd\n",
    "\n",
    "# Define your API key\n",
    "API_KEY = 'c75a391f-1b87-45fb-8d89-4ed569a278a3'\n",
    "\n",
    "# Define the countries and months for which you want holiday data\n",
    "countries = ['US', 'IN', 'UK', 'JP', 'CN', 'KR']  # Example: United States, India, Japan, UK, France\n",
    "months = range(1, 13)  # January to December\n",
    "year = 2024\n",
    "\n",
    "# Create an empty list to store holiday data\n",
    "holiday_data = []\n",
    "\n",
    "# Fetch data for each country and month\n",
    "for country in countries:\n",
    "    for month in months:\n",
    "        # Construct the API URL\n",
    "        url = f\"https://holidayapi.com/v1/holidays?key={API_KEY}&country={country}&year={year}&month={month}\"\n",
    "        \n",
    "        # Make the API request\n",
    "        response = requests.get(url)\n",
    "        \n",
    "        if response.status_code == 200:\n",
    "            data = response.json()\n",
    "            \n",
    "            # Extract holiday details\n",
    "            for holiday in data.get('holidays', []):\n",
    "                holiday_data.append({\n",
    "                    'Country': country,\n",
    "                    'Date': holiday['date'],\n",
    "                    'Name': holiday['name'],\n",
    "                    'Public': holiday.get('public', False)  # Check if it's a public holiday\n",
    "                })\n",
    "        else:\n",
    "            print(f\"Failed to fetch data for {country} - {month}: {response.status_code}, {response.text}\")\n",
    "\n",
    "# Convert the data into a DataFrame\n",
    "holiday_df = pd.DataFrame(holiday_data)\n",
    "print(holiday_df)\n",
    "\n",
    "# Save to a CSV file for future use\n",
    "holiday_df.to_excel('C:\\\\Users\\\\aadig\\\\OneDrive\\\\Desktop\\\\Nuel\\\\holiday_data.xlsx', index=False)\n",
    "\n",
    "# Ensure 'Date' is in datetime format\n",
    "holiday_df['Date'] = pd.to_datetime(holiday_df['Date'])\n",
    "\n",
    "# Extract the month from the 'Date' column\n",
    "holiday_df['Month'] = holiday_df['Date'].dt.month\n",
    "\n",
    "# Count the number of public holidays per country and month\n",
    "holiday_counts = holiday_df.groupby(['Country', 'Month'])['Date'].count().reset_index()\n",
    "\n",
    "# Rename the 'Date' column to 'HolidayCount' for clarity\n",
    "holiday_counts.rename(columns={'Date': 'HolidayCount'}, inplace=True)\n",
    "\n",
    "# Add the month name as a column\n",
    "holiday_counts['Month_Name'] = holiday_counts['Month'].apply(lambda x: pd.to_datetime(f'2024-{x}-01').strftime('%B'))\n",
    "\n",
    "# Preview the result\n",
    "print(holiday_counts)\n",
    "\n",
    "# Save to an Excel file for future use\n",
    "holiday_counts.to_excel('C:\\\\Users\\\\aadig\\\\OneDrive\\\\Desktop\\\\Nuel\\\\holiday_counts1.xlsx', index=False)"
   ]
  },
  {
   "cell_type": "code",
   "execution_count": null,
   "id": "b69b235f",
   "metadata": {},
   "outputs": [],
   "source": []
  },
  {
   "cell_type": "code",
   "execution_count": null,
   "id": "d575b897",
   "metadata": {},
   "outputs": [],
   "source": []
  },
  {
   "cell_type": "code",
   "execution_count": null,
   "id": "dc961b10",
   "metadata": {},
   "outputs": [],
   "source": []
  }
 ],
 "metadata": {
  "kernelspec": {
   "display_name": "Python 3 (ipykernel)",
   "language": "python",
   "name": "python3"
  },
  "language_info": {
   "codemirror_mode": {
    "name": "ipython",
    "version": 3
   },
   "file_extension": ".py",
   "mimetype": "text/x-python",
   "name": "python",
   "nbconvert_exporter": "python",
   "pygments_lexer": "ipython3",
   "version": "3.9.7"
  }
 },
 "nbformat": 4,
 "nbformat_minor": 5
}
